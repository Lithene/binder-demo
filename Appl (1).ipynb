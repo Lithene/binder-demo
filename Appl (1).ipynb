{
 "cells": [
  {
   "cell_type": "code",
   "execution_count": 1,
   "metadata": {},
   "outputs": [],
   "source": [
    "import plotly\n",
    "import chart_studio.plotly as py\n",
    "import plotly.tools as plotly_tools\n",
    "import plotly.graph_objs as go\n",
    "\n",
    "import pandas as pd\n",
    "import numpy as np\n",
    "import yfinance as yf\n",
    "\n",
    "from datetime import datetime\n",
    "from datetime import time as dt_tm\n",
    "from datetime import date as dt_date\n",
    "\n",
    "import os\n",
    "import tempfile\n",
    "os.environ['MPLCONFIGDIR'] = tempfile.mkdtemp()\n",
    "import matplotlib.pyplot as plt\n",
    "\n",
    "from scipy.stats import gaussian_kde\n",
    "\n",
    "from IPython.display import HTML"
   ]
  },
  {
   "cell_type": "code",
   "execution_count": null,
   "metadata": {},
   "outputs": [
    {
     "name": "stderr",
     "output_type": "stream",
     "text": [
      "Exception in thread Thread-5:\n",
      "Traceback (most recent call last):\n",
      "  File \"/srv/conda/envs/notebook/lib/python3.7/threading.py\", line 926, in _bootstrap_inner\n",
      "    self.run()\n",
      "  File \"/srv/conda/envs/notebook/lib/python3.7/threading.py\", line 870, in run\n",
      "    self._target(*self._args, **self._kwargs)\n",
      "  File \"/srv/conda/envs/notebook/lib/python3.7/site-packages/multitasking/__init__.py\", line 102, in _run_via_pool\n",
      "    return callee(*args, **kwargs)\n",
      "  File \"/srv/conda/envs/notebook/lib/python3.7/site-packages/yfinance/multi.py\", line 168, in _download_one_threaded\n",
      "    actions, period, interval, prepost, proxy, rounding)\n",
      "  File \"/srv/conda/envs/notebook/lib/python3.7/site-packages/yfinance/multi.py\", line 179, in _download_one\n",
      "    return Ticker(ticker).history(period=period, interval=interval,\n",
      "  File \"/srv/conda/envs/notebook/lib/python3.7/site-packages/yfinance/base.py\", line 65, in __init__\n",
      "    \"yearly\": utils.empty_df(),\n",
      "  File \"/srv/conda/envs/notebook/lib/python3.7/site-packages/yfinance/utils.py\", line 40, in empty_df\n",
      "    'Close': _np.nan, 'Adj Close': _np.nan, 'Volume': _np.nan})\n",
      "  File \"/srv/conda/envs/notebook/lib/python3.7/site-packages/pandas/core/frame.py\", line 435, in __init__\n",
      "    mgr = init_dict(data, index, columns, dtype=dtype)\n",
      "  File \"/srv/conda/envs/notebook/lib/python3.7/site-packages/pandas/core/internals/construction.py\", line 254, in init_dict\n",
      "    return arrays_to_mgr(arrays, data_names, index, columns, dtype=dtype)\n",
      "  File \"/srv/conda/envs/notebook/lib/python3.7/site-packages/pandas/core/internals/construction.py\", line 69, in arrays_to_mgr\n",
      "    arrays = _homogenize(arrays, index, dtype)\n",
      "  File \"/srv/conda/envs/notebook/lib/python3.7/site-packages/pandas/core/internals/construction.py\", line 323, in _homogenize\n",
      "    val, index, dtype=dtype, copy=False, raise_cast_failure=False\n",
      "  File \"/srv/conda/envs/notebook/lib/python3.7/site-packages/pandas/core/construction.py\", line 465, in sanitize_array\n",
      "    subarr = construct_1d_arraylike_from_scalar(value, len(index), dtype)\n",
      "  File \"/srv/conda/envs/notebook/lib/python3.7/site-packages/pandas/core/dtypes/cast.py\", line 1452, in construct_1d_arraylike_from_scalar\n",
      "    subarr = np.empty(length, dtype=dtype)\n",
      "TypeError: Cannot interpret '<attribute 'dtype' of 'numpy.generic' objects>' as a data type\n",
      "\n"
     ]
    }
   ],
   "source": [
    "ma = []\n",
    "\n",
    "def moving_average(interval, window_size):\n",
    "    window = np.ones(int(window_size))/float(window_size)\n",
    "    return np.convolve(interval, window, 'same')\n",
    "\n",
    "quotes = yf.download(\"AAPL\", start=\"2020-01-01\", end=\"2020-12-30\")\n",
    "x = quotes.index\n",
    "\n",
    "if len(quotes) == 0:\n",
    "    print (\"Couldn't connect to yahoo trading database\")\n",
    "else:\n",
    "    dates = [q[0] for q in quotes]\n",
    "    y = quotes.Open\n",
    "    for date in dates:\n",
    "        ma = moving_average(y.astype('int64'), 10)"
   ]
  },
  {
   "cell_type": "code",
   "execution_count": null,
   "metadata": {},
   "outputs": [],
   "source": [
    "xy_data = go.Scatter( x=x, y=y, mode='markers', marker=dict(size=4), name='AAPL' )\n",
    "# vvv clip first and last points of convolution\n",
    "mov_avg = go.Scatter( x=x[5:-4], y=ma[5:-4], \\\n",
    "                  line=dict(width=2,color='red'), name='Moving average' )\n",
    "data = [xy_data, mov_avg]\n",
    "\n",
    "plotly.offline.iplot(data, filename='apple stock moving average')"
   ]
  },
  {
   "cell_type": "code",
   "execution_count": null,
   "metadata": {},
   "outputs": [],
   "source": [
    "first_plot_url = plotly.offline.plot(data, filename='apple_stock_moving_average.html', auto_open=False,)\n",
    "print (first_plot_url)"
   ]
  },
  {
   "cell_type": "code",
   "execution_count": null,
   "metadata": {},
   "outputs": [],
   "source": []
  },
  {
   "cell_type": "code",
   "execution_count": null,
   "metadata": {},
   "outputs": [],
   "source": [
    "second_plot_url = plotly.offline.plot(fig, filename='Major technology and CPG stock prices in 2014 - scatter matrix.html')\n",
    "print (second_plot_url)"
   ]
  },
  {
   "cell_type": "code",
   "execution_count": null,
   "metadata": {},
   "outputs": [],
   "source": [
    "html_string = '''\n",
    "<html>\n",
    "    <head>\n",
    "        <link rel=\"stylesheet\" href=\"https://maxcdn.bootstrapcdn.com/bootstrap/3.3.1/css/bootstrap.min.css\">\n",
    "        <style>body{ margin:0 100; background:whitesmoke; }</style>\n",
    "    </head>\n",
    "    <body>\n",
    "        <h1>2014 technology and CPG stock prices</h1>\n",
    "\n",
    "        <!-- *** Section 1 *** --->\n",
    "        <h2>Section 1: Apple Inc. (AAPL) stock in 2014</h2>\n",
    "        <iframe src=first_plot_url></iframe>\n",
    "        <iframe width=\"1000\" height=\"550\" frameborder=\"0\" seamless=\"seamless\" scrolling=\"no\" \\\n",
    "src=\"''' + first_plot_url + '''.embed?width=800&height=550\"></iframe>\n",
    "        <p>Apple stock price rose steadily through 2014.</p>\n",
    "        \n",
    "        <!-- *** Section 2 *** --->\n",
    "        <h2>Section 2: AAPL compared to other 2014 stocks</h2>\n",
    "        <iframe width=\"1000\" height=\"1000\" frameborder=\"0\" seamless=\"seamless\" scrolling=\"no\" \\\n",
    "src=\"''' + second_plot_url + '''.embed?width=1000&height=1000\"></iframe>\n",
    "        <p>GE had the most predictable stock price in 2014. IBM had the highest mean stock price. \\\n",
    "The red lines are kernel density estimations of each stock price - the peak of each red lines \\\n",
    "corresponds to its mean stock price for 2014 on the x axis.</p>\n",
    "    </body>\n",
    "</html>'''"
   ]
  },
  {
   "cell_type": "code",
   "execution_count": null,
   "metadata": {},
   "outputs": [],
   "source": [
    "f = open('/home/jovyan/report.html','w')\n",
    "f.write(html_string)\n",
    "f.close()"
   ]
  }
 ],
 "metadata": {
  "kernelspec": {
   "display_name": "Python 3",
   "language": "python",
   "name": "python3"
  },
  "language_info": {
   "codemirror_mode": {
    "name": "ipython",
    "version": 3
   },
   "file_extension": ".py",
   "mimetype": "text/x-python",
   "name": "python",
   "nbconvert_exporter": "python",
   "pygments_lexer": "ipython3",
   "version": "3.7.10"
  }
 },
 "nbformat": 4,
 "nbformat_minor": 4
}
